{
 "cells": [
  {
   "cell_type": "markdown",
   "metadata": {},
   "source": [
    "# Import MANO layer"
   ]
  },
  {
   "cell_type": "code",
   "execution_count": null,
   "metadata": {},
   "outputs": [],
   "source": [
    "import torch\n",
    "from manopth.manolayer import ManoLayer\n",
    "from manopth import demo\n",
    "\n",
    "from commons import *"
   ]
  },
  {
   "cell_type": "markdown",
   "metadata": {},
   "source": [
    "# Use CUDA device if available"
   ]
  },
  {
   "cell_type": "code",
   "execution_count": null,
   "metadata": {},
   "outputs": [],
   "source": [
    "device = torch.device('cuda' if torch.cuda.is_available() else 'cpu')\n",
    "print('Using device:', device)"
   ]
  },
  {
   "cell_type": "markdown",
   "metadata": {},
   "source": [
    "# Initialize the MANO layer\n",
    "\n",
    "- Hand side: right"
   ]
  },
  {
   "cell_type": "code",
   "execution_count": null,
   "metadata": {},
   "outputs": [],
   "source": [
    "# Create a MANO layer with default settings\n",
    "mano_layer = ManoLayer(\n",
    "    center_idx=0,\n",
    "    flat_hand_mean=True,\n",
    "    ncomps=45,\n",
    "    side=\"right\",\n",
    "    mano_root=PROJ_ROOT/ \"config/mano_models\",\n",
    "    use_pca=True,\n",
    "    root_rot_mode=\"axisang\",\n",
    "    joint_rot_mode=\"axisang\",\n",
    "    robust_rot=True,\n",
    ")\n",
    "\n",
    "# Move the MANO layer to the device\n",
    "mano_layer = mano_layer.to(device)"
   ]
  },
  {
   "cell_type": "markdown",
   "metadata": {},
   "source": [
    "# Load MANO Shape parameters from file"
   ]
  },
  {
   "cell_type": "code",
   "execution_count": null,
   "metadata": {},
   "outputs": [],
   "source": [
    "data = read_data_from_json(PROJ_ROOT / \"data/calibration/mano/subject_7/mano.json\")\n",
    "print(f\"Load data from json: {data}\")\n",
    "\n",
    "# create a hand pose parameter tensor\n",
    "shape_params = torch.tensor(data[\"betas\"], dtype=torch.float32).to(device)\n",
    "print(f\"shape_params tensor: {shape_params}\")\n",
    "\n",
    "# add batch dimension\n",
    "shape_params = shape_params.unsqueeze(0)\n",
    "print(f\"shape_params tensor with batch dim: {shape_params.shape}\")"
   ]
  },
  {
   "cell_type": "markdown",
   "metadata": {},
   "source": [
    "# Load MANO Pose parameters from file"
   ]
  },
  {
   "cell_type": "code",
   "execution_count": null,
   "metadata": {},
   "outputs": [],
   "source": [
    "poses_m = np.load(PROJ_ROOT / \"data/recordings/20231022_193630/poses_m.npy\")\n",
    "print(f\"MANO poses loaded: {poses_m.shape}\")    # (hand_num, frame_num, 51), the first 48 are pose parameters, last 3 are global translation\n",
    "\n",
    "# read frame_id=230 for right hand (index=0)\n",
    "pose_m = poses_m[0, 230]\n",
    "print(f\"pose_params: {pose_m}\")\n",
    "\n",
    "# create a hand pose parameter tensor from numpy array\n",
    "pose_params = torch.tensor(pose_m[:48], dtype=torch.float32).to(device)\n",
    "print(f\"pose_params tensor: {pose_params}\")\n",
    "\n",
    "# create a global translation parameter tensor from numpy array\n",
    "global_trans = torch.tensor(pose_m[48:], dtype=torch.float32).to(device)\n",
    "print(f\"global_trans tensor: {global_trans}\")\n",
    "\n",
    "# add batch dimension\n",
    "pose_params = pose_params.unsqueeze(0)\n",
    "print(f\"pose_params tensor with batch dim: {pose_params.shape}\")\n",
    "global_trans = global_trans.unsqueeze(0)\n",
    "print(f\"global_trans tensor with batch dim: {global_trans.shape}\")"
   ]
  },
  {
   "cell_type": "code",
   "execution_count": null,
   "metadata": {},
   "outputs": [],
   "source": [
    "hand_verts, hand_joints = mano_layer(pose_params, shape_params, global_trans)\n",
    "hand_faces = mano_layer.th_faces\n",
    "# Convert to meters\n",
    "hand_verts = hand_verts / 1000.0\n",
    "hand_joints = hand_joints / 1000.0\n",
    "\n",
    "# Convert the resulting vertices, joints and faces to numpy\n",
    "hand_verts_np = hand_verts[0].cpu().detach().numpy()\n",
    "hand_joints_np = hand_joints[0].cpu().detach().numpy()\n",
    "hand_faces_np = hand_faces.cpu().detach().numpy()"
   ]
  },
  {
   "cell_type": "code",
   "execution_count": null,
   "metadata": {},
   "outputs": [],
   "source": [
    "demo.display_hand(\n",
    "    {\n",
    "        'verts': hand_verts,\n",
    "        'joints': hand_joints\n",
    "    },\n",
    "    mano_faces=hand_faces,\n",
    ")"
   ]
  },
  {
   "cell_type": "code",
   "execution_count": null,
   "metadata": {},
   "outputs": [],
   "source": [
    "# Visualize the hand\n",
    "# Create a triangle mesh from the vertices and faces\n",
    "mesh = o3d.geometry.TriangleMesh()\n",
    "mesh.vertices = o3d.utility.Vector3dVector(hand_verts_np)\n",
    "mesh.triangles = o3d.utility.Vector3iVector(hand_faces_np)\n",
    "\n",
    "# Estimate normals\n",
    "mesh.compute_vertex_normals()\n",
    "mesh.normalize_normals()\n",
    "\n",
    "# Paint the mesh a uniform grey color\n",
    "mesh.paint_uniform_color([0.3, 0.3, 0.3])\n",
    "\n",
    "# Joints as red spheres\n",
    "joint_mesh = o3d.geometry.TriangleMesh()\n",
    "for joint in hand_joints_np:\n",
    "    joint_mesh += o3d.geometry.TriangleMesh.create_sphere(radius=0.003).translate(joint)\n",
    "joint_mesh.paint_uniform_color([1, 0, 0])\n",
    "\n",
    "# Visualize the mesh\n",
    "o3d.visualization.draw([mesh, joint_mesh])"
   ]
  }
 ],
 "metadata": {
  "kernelspec": {
   "display_name": "summer_camp",
   "language": "python",
   "name": "python3"
  },
  "language_info": {
   "codemirror_mode": {
    "name": "ipython",
    "version": 3
   },
   "file_extension": ".py",
   "mimetype": "text/x-python",
   "name": "python",
   "nbconvert_exporter": "python",
   "pygments_lexer": "ipython3",
   "version": "3.10.14"
  }
 },
 "nbformat": 4,
 "nbformat_minor": 2
}
