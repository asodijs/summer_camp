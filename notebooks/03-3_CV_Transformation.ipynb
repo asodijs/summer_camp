{
 "cells": [
  {
   "cell_type": "markdown",
   "metadata": {},
   "source": [
    "# Transformat a 3D points by a 4x4 matrix\n",
    "\n",
    "- Transformation Matrix\n",
    "\n",
    "$X = \\begin{bmatrix} x \\\\ y \\\\ z \\end{bmatrix}$,\n",
    "$R = \\begin{bmatrix} r_{11} & r_{12} & r_{13} \\\\ r_{21} & r_{22} & r_{23} \\\\ r_{31} & r_{32} & r_{33} \\end{bmatrix}$,\n",
    "$t = \\begin{bmatrix} t_x \\\\ t_y \\\\ t_z \\end{bmatrix}$\n",
    "\n",
    "$X^{*} = \\begin{bmatrix} R | t \\end{bmatrix}_{3 \\times 4}X = RX + t$\n",
    "\n",
    "- Homogeneous Coordinates\n",
    "\n",
    "$X = \\begin{bmatrix} x \\\\ y \\\\ z \\\\ 1 \\end{bmatrix}$,\n",
    "$R = \\begin{bmatrix} r_{11} & r_{12} & r_{13} & 0 \\\\ r_{21} & r_{22} & r_{23} & 0 \\\\ r_{31} & r_{32} & r_{33} & 0 \\\\ 0 & 0 & 0 & 1 \\end{bmatrix}$,\n",
    "$t = \\begin{bmatrix} t_x \\\\ t_y \\\\ t_z \\\\ 1 \\end{bmatrix}$\n",
    "\n",
    "$T = \\begin{bmatrix} R | t \\end{bmatrix} = \\begin{bmatrix} r_{11} & r_{12} & r_{13} & t_x \\\\ r_{21} & r_{22} & r_{23} & t_y \\\\ r_{31} & r_{32} & r_{33} & t_z \\\\ 0 & 0 & 0 & 1 \\end{bmatrix}_{4 \\times 4}$\n",
    "\n",
    "$X^{*} = TX$\n"
   ]
  },
  {
   "cell_type": "code",
   "execution_count": null,
   "metadata": {},
   "outputs": [],
   "source": [
    "import numpy as np\n",
    "\n",
    "def apply_Rt(point, R, t):\n",
    "    p = R @ point + t\n",
    "    return p\n",
    "\n",
    "def apply_transformation(point, T_matrix):\n",
    "    # make point homogenous\n",
    "    point = np.append(point, 1)\n",
    "    p = T_matrix @ point\n",
    "    return p[:3]"
   ]
  },
  {
   "cell_type": "code",
   "execution_count": null,
   "metadata": {},
   "outputs": [],
   "source": [
    "point = np.array([1.0, 1.0, 1.0])\n",
    "print(f\"3D Point:\\n{point}\")\n",
    "\n",
    "Rot = np.array([\n",
    "    [1.0, 0.0, 0.0],\n",
    "    [0.0, 1.0, -1.0],\n",
    "    [0.0, 0.0, 0.0]\n",
    "])\n",
    "print(f\"Rotation matrix:\\n{Rot}\")\n",
    "\n",
    "t = np.array([1.0, 0.0, 0.0])\n",
    "print(f\"Translation vector:\\n{t}\")\n",
    "\n",
    "T = np.eye(4)\n",
    "T[:3, :3] = Rot\n",
    "T[:3, 3] = t\n",
    "print(f\"Transformation matrix:\\n{T}\")\n",
    "\n",
    "p1 = apply_Rt(point, Rot, t)\n",
    "print(f\"Transformed point:\\n{p1}\")\n",
    "\n",
    "p2 = apply_transformation(point, T)\n",
    "print(f\"Transformed point:\\n{p2}\")"
   ]
  },
  {
   "cell_type": "markdown",
   "metadata": {},
   "source": [
    "# Practice\n",
    "\n",
    "- In above formula, $X$ is a 3D point, $R$ is a 3x3 rotation matrix, $t$ is a 3D translation vector, $X^{*}$ is the transformed 3D point, and $T$ is a 4x4 transformation matrix.\n",
    "- Now, the input is a point cloud $P$ with shape (N, 3), please write the function `apply_Rt_batch` and `apply_transformation_batch`to transform the batch of points.\n",
    "\n",
    "Refer to the code [python_quizs_answer3.py](./python_quizs_answer3.py) for the answer."
   ]
  },
  {
   "cell_type": "code",
   "execution_count": 9,
   "metadata": {},
   "outputs": [
    {
     "ename": "ValueError",
     "evalue": "operands could not be broadcast together with shapes (3,1000) (3,) ",
     "output_type": "error",
     "traceback": [
      "\u001b[1;31m---------------------------------------------------------------------------\u001b[0m",
      "\u001b[1;31mValueError\u001b[0m                                Traceback (most recent call last)",
      "Cell \u001b[1;32mIn[9], line 21\u001b[0m\n\u001b[0;32m     18\u001b[0m T[:\u001b[38;5;241m3\u001b[39m, \u001b[38;5;241m3\u001b[39m] \u001b[38;5;241m=\u001b[39m t\n\u001b[0;32m     20\u001b[0m \u001b[38;5;66;03m# apply the transformation\u001b[39;00m\n\u001b[1;32m---> 21\u001b[0m p1 \u001b[38;5;241m=\u001b[39m \u001b[43mapply_Rt_batch\u001b[49m\u001b[43m(\u001b[49m\u001b[43mpoints\u001b[49m\u001b[43m,\u001b[49m\u001b[43m \u001b[49m\u001b[43mR\u001b[49m\u001b[43m,\u001b[49m\u001b[43m \u001b[49m\u001b[43mt\u001b[49m\u001b[43m)\u001b[49m\n\u001b[0;32m     22\u001b[0m p2 \u001b[38;5;241m=\u001b[39m apply_transformation_batch(points, T)\n\u001b[0;32m     24\u001b[0m \u001b[38;5;66;03m# check if the results are the same\u001b[39;00m\n",
      "Cell \u001b[1;32mIn[9], line 4\u001b[0m, in \u001b[0;36mapply_Rt_batch\u001b[1;34m(points, R, t)\u001b[0m\n\u001b[0;32m      3\u001b[0m \u001b[38;5;28;01mdef\u001b[39;00m \u001b[38;5;21mapply_Rt_batch\u001b[39m(points, R, t):\n\u001b[1;32m----> 4\u001b[0m     \u001b[38;5;28;01mreturn\u001b[39;00m (\u001b[43mR\u001b[49m\u001b[43m \u001b[49m\u001b[38;5;241;43m@\u001b[39;49m\u001b[43m \u001b[49m\u001b[43mpoints\u001b[49m\u001b[38;5;241;43m.\u001b[39;49m\u001b[43mT\u001b[49m\u001b[43m \u001b[49m\u001b[38;5;241;43m+\u001b[39;49m\u001b[43m \u001b[49m\u001b[43mt\u001b[49m)\n",
      "\u001b[1;31mValueError\u001b[0m: operands could not be broadcast together with shapes (3,1000) (3,) "
     ]
    }
   ],
   "source": [
    "import numpy as np\n",
    "# rx+t\n",
    "def apply_Rt_batch(points, R, t):\n",
    "    return (R @ points.T + t)\n",
    "\n",
    "# x = tx\n",
    "def apply_transformation_batch(points, T_matrix):\n",
    "    return (points @ T_matrix)\n",
    "\n",
    "# random points, R, t\n",
    "points = np.random.rand(1000, 3)\n",
    "R = np.random.rand(3, 3)\n",
    "t = np.random.rand(3)\n",
    "\n",
    "# create the transformation matrix from R, t\n",
    "T = np.eye(4)   # 4x4 identity matrix\n",
    "T[:3, :3] = R\n",
    "T[:3, 3] = t\n",
    "\n",
    "# apply the transformation\n",
    "p1 = apply_Rt_batch(points, R, t)\n",
    "p2 = apply_transformation_batch(points, T)\n",
    "\n",
    "# check if the results are the same\n",
    "print(np.allclose(p1, p2))  # should print True"
   ]
  },
  {
   "cell_type": "code",
   "execution_count": null,
   "metadata": {},
   "outputs": [],
   "source": []
  }
 ],
 "metadata": {
  "kernelspec": {
   "display_name": "Python 3 (ipykernel)",
   "language": "python",
   "name": "python3"
  },
  "language_info": {
   "codemirror_mode": {
    "name": "ipython",
    "version": 3
   },
   "file_extension": ".py",
   "mimetype": "text/x-python",
   "name": "python",
   "nbconvert_exporter": "python",
   "pygments_lexer": "ipython3",
   "version": "3.10.14"
  }
 },
 "nbformat": 4,
 "nbformat_minor": 4
}
