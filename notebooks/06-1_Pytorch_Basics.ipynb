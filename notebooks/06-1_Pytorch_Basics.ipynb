{
 "cells": [
  {
   "cell_type": "markdown",
   "metadata": {},
   "source": [
    "# Introduction to Tensors\n",
    "\n",
    "## What is a Tensor?\n",
    "\n",
    "- Definition: \"A tensor is a multi-dimensional array, a generalization of matrices to higher dimensions.\"\n",
    "- Key Points:\n",
    "  - Fundamental data structure in PyTorch.\n",
    "  - Similar to NumPy arrays, but with additional functionality for GPU acceleration.\n",
    "  - You can create tensors from lists, with specific values, shapes, data types, and even from NumPy arrays."
   ]
  },
  {
   "cell_type": "markdown",
   "metadata": {},
   "source": [
    "## Creating Tensors from Lists"
   ]
  },
  {
   "cell_type": "code",
   "execution_count": null,
   "metadata": {},
   "outputs": [],
   "source": [
    "import torch\n",
    "\n",
    "# Creating a tensor from a list\n",
    "data = [1.0, 2.0, 3.0]\n",
    "tensor_from_list = torch.tensor(data)\n",
    "print(\"Tensor from list:\", tensor_from_list, tensor_from_list.dtype)"
   ]
  },
  {
   "cell_type": "markdown",
   "metadata": {},
   "source": [
    "## Creating Tensors with Specific Values"
   ]
  },
  {
   "cell_type": "code",
   "execution_count": null,
   "metadata": {},
   "outputs": [],
   "source": [
    "# Creating a 2D tensor (matrix) of zeros\n",
    "zeros_matrix = torch.zeros(2, 3)\n",
    "print(\"Zeros matrix:\\n\", zeros_matrix)\n",
    "\n",
    "# Creating a 2D tensor (matrix) of ones\n",
    "ones_matrix = torch.ones(2, 3)\n",
    "print(\"Ones matrix:\\n\", ones_matrix)\n",
    "\n",
    "# Creating a 2D tensor (matrix) with random values\n",
    "random_matrix = torch.rand(2, 3)\n",
    "print(\"Random matrix:\\n\", random_matrix)"
   ]
  },
  {
   "cell_type": "markdown",
   "metadata": {},
   "source": [
    "## Creating Tensors with Specific Shapes"
   ]
  },
  {
   "cell_type": "code",
   "execution_count": null,
   "metadata": {},
   "outputs": [],
   "source": [
    "# Creating a 2D tensor (matrix) of zeros\n",
    "zeros_matrix = torch.zeros(2, 3)\n",
    "print(\"Zeros matrix:\\n\", zeros_matrix)\n",
    "\n",
    "# Creating a 2D tensor (matrix) of ones\n",
    "ones_matrix = torch.ones(2, 3)\n",
    "print(\"Ones matrix:\\n\", ones_matrix)\n",
    "\n",
    "# Creating a 2D tensor (matrix) with random values\n",
    "random_matrix = torch.rand(2, 3)\n",
    "print(\"Random matrix:\\n\", random_matrix)"
   ]
  },
  {
   "cell_type": "markdown",
   "metadata": {},
   "source": [
    "## Creating Tensors with Specific Data Types"
   ]
  },
  {
   "cell_type": "code",
   "execution_count": null,
   "metadata": {},
   "outputs": [],
   "source": [
    "# Creating a tensor with integer values\n",
    "int_tensor = torch.tensor([1, 2, 3], dtype=torch.int32)\n",
    "print(\"Integer tensor:\", int_tensor)\n",
    "\n",
    "# Creating a tensor with floating-point values\n",
    "float_tensor = torch.tensor([1.0, 2.0, 3.0], dtype=torch.float32)\n",
    "print(\"Float tensor:\", float_tensor)"
   ]
  },
  {
   "cell_type": "markdown",
   "metadata": {},
   "source": [
    "## Creating Tensors from NumPy Arrays"
   ]
  },
  {
   "cell_type": "code",
   "execution_count": null,
   "metadata": {},
   "outputs": [],
   "source": [
    "import numpy as np\n",
    "\n",
    "# Creating a NumPy array\n",
    "np_array = np.array([1.0, 2.0, 3.0])\n",
    "\n",
    "# Converting NumPy array to PyTorch tensor\n",
    "tensor_from_np = torch.tensor(np_array)\n",
    "print(\"Tensor from NumPy array:\", tensor_from_np)"
   ]
  },
  {
   "cell_type": "markdown",
   "metadata": {},
   "source": [
    "## Basic Tensor Operations"
   ]
  },
  {
   "cell_type": "code",
   "execution_count": null,
   "metadata": {},
   "outputs": [],
   "source": [
    "# Addition\n",
    "a = torch.tensor([1.0, 2.0, 3.0])\n",
    "b = torch.tensor([4.0, 5.0, 6.0])\n",
    "c = a + b\n",
    "print(\"Addition:\", c)\n",
    "\n",
    "# Multiplication\n",
    "d = a * b\n",
    "print(\"Multiplication:\", d)\n",
    "\n",
    "# Matrix Multiplication\n",
    "matrix_a = torch.tensor([[1, 2], [3, 4]])\n",
    "matrix_b = torch.tensor([[5, 6], [7, 8]])\n",
    "matrix_c = torch.mm(matrix_a, matrix_b)\n",
    "print(\"Matrix Multiplication:\\n\", matrix_c)"
   ]
  },
  {
   "cell_type": "markdown",
   "metadata": {},
   "source": [
    "# Example Code of Object 6OD Pose Estimation"
   ]
  },
  {
   "cell_type": "markdown",
   "metadata": {},
   "source": [
    "### Define the Model"
   ]
  },
  {
   "cell_type": "code",
   "execution_count": 7,
   "metadata": {},
   "outputs": [],
   "source": [
    "import torch\n",
    "import torch.nn as nn\n",
    "import torch.optim as optim\n",
    "\n",
    "# Define a simple neural network for 6D pose estimation\n",
    "class PoseEstimationNN(nn.Module):\n",
    "    def __init__(self):\n",
    "        super(PoseEstimationNN, self).__init__()\n",
    "        self.fc1 = nn.Linear(10, 128)\n",
    "        self.fc2 = nn.Linear(128, 128)\n",
    "        self.fc3 = nn.Linear(128, 6)  # 3 for position (x, y, z) and 3 for orientation (roll, pitch, yaw)\n",
    "\n",
    "    def forward(self, x):\n",
    "        x = torch.relu(self.fc1(x))\n",
    "        x = torch.relu(self.fc2(x))\n",
    "        x = self.fc3(x)\n",
    "        return x\n",
    "\n",
    "model = PoseEstimationNN()"
   ]
  },
  {
   "cell_type": "markdown",
   "metadata": {},
   "source": [
    "### Define the MSE Loss and Optimizer"
   ]
  },
  {
   "cell_type": "code",
   "execution_count": 10,
   "metadata": {},
   "outputs": [],
   "source": [
    "# Mean Squared Error loss\n",
    "mse_loss = nn.MSELoss()\n",
    "\n",
    "# Stochastic Gradient Descent optimizer\n",
    "optimizer = optim.Adam(model.parameters(), lr=0.001)"
   ]
  },
  {
   "cell_type": "markdown",
   "metadata": {},
   "source": [
    "### Step-by-Step Optimization\n",
    "\n",
    "1. Forward Pass: Compute predictions using the current model parameters.\n",
    "2. Compute Loss: Measure how far the predictions are from the actual values.\n",
    "3. Backward Pass: Calculate gradients of the loss with respect to each parameter.\n",
    "4. Update Parameters: Adjust parameters using the optimizer to reduce the loss."
   ]
  },
  {
   "cell_type": "code",
   "execution_count": 11,
   "metadata": {},
   "outputs": [
    {
     "name": "stdout",
     "output_type": "stream",
     "text": [
      "Epoch [10/100], Loss: 1.3683\n",
      "Epoch [20/100], Loss: 0.3462\n",
      "Epoch [30/100], Loss: 0.0464\n",
      "Epoch [40/100], Loss: 0.0338\n",
      "Epoch [50/100], Loss: 0.0119\n",
      "Epoch [60/100], Loss: 0.0033\n",
      "Epoch [70/100], Loss: 0.0014\n",
      "Epoch [80/100], Loss: 0.0006\n",
      "Epoch [90/100], Loss: 0.0001\n",
      "Epoch [100/100], Loss: 0.0001\n"
     ]
    }
   ],
   "source": [
    "# Example input (features) and target (actual 6D pose)\n",
    "inputs = torch.randn(1, 10)  # Random input tensor with 10 features\n",
    "target = torch.tensor([[1.0, 2.0, 3.0, 0.1, 0.2, 0.3]])  # Example target 6D pose\n",
    "\n",
    "# Example training loop\n",
    "num_epochs = 100\n",
    "loss_history = []  # To store loss values\n",
    "\n",
    "for epoch in range(num_epochs):\n",
    "    optimizer.zero_grad()         # Zero the gradients\n",
    "    predictions = model(inputs)   # Forward pass\n",
    "    loss = mse_loss(predictions, target)  # Compute loss\n",
    "    loss.backward()               # Backward pass (compute gradients)\n",
    "    optimizer.step()              # Update parameters (optimize)\n",
    "\n",
    "    loss_history.append(loss.item())\n",
    "    \n",
    "    if (epoch+1) % 10 == 0:\n",
    "        print(f'Epoch [{epoch+1}/{num_epochs}], Loss: {loss.item():.4f}')\n"
   ]
  },
  {
   "cell_type": "markdown",
   "metadata": {},
   "source": [
    "### Visualizing Optimization Progress\n",
    "\n",
    "- Plot the loss over epochs to show how the model improves.\n",
    "- Lower loss indicates better model performance."
   ]
  },
  {
   "cell_type": "code",
   "execution_count": 12,
   "metadata": {},
   "outputs": [
    {
     "data": {
      "image/png": "[encoded data removed]",
      "text/plain": [
       "<Figure size 640x480 with 1 Axes>"
      ]
     },
     "metadata": {},
     "output_type": "display_data"
    }
   ],
   "source": [
    "import matplotlib.pyplot as plt\n",
    "\n",
    "# Plotting loss history\n",
    "plt.plot(range(num_epochs), loss_history)\n",
    "plt.xlabel('Epoch')\n",
    "plt.ylabel('Loss')\n",
    "plt.title('Loss Reduction Over Time')\n",
    "plt.show()\n"
   ]
  }
 ],
 "metadata": {
  "kernelspec": {
   "display_name": "summer_camp",
   "language": "python",
   "name": "python3"
  },
  "language_info": {
   "codemirror_mode": {
    "name": "ipython",
    "version": 3
   },
   "file_extension": ".py",
   "mimetype": "text/x-python",
   "name": "python",
   "nbconvert_exporter": "python",
   "pygments_lexer": "ipython3",
   "version": "3.10.14"
  }
 },
 "nbformat": 4,
 "nbformat_minor": 2
}
