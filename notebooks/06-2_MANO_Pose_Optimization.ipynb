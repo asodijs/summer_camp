{
 "cells": [
  {
   "cell_type": "markdown",
   "metadata": {},
   "source": [
    "# Example Code of MANO Hand Pose Estimation by 3D keypoints"
   ]
  },
  {
   "cell_type": "markdown",
   "metadata": {},
   "source": [
    "### Initialize the MANO layer\n",
    "\n",
    "- Load MANO shape parameters from file\n",
    "- Load Target 3D keypoints from file\n",
    "- Initialize the MANO layer\n",
    "- Define the `mano_layer_forward` function to predict the MANO 3D joints from input MANO shape and pose parameters\n",
    "- Define the loss function `MSE` to calculate the difference between the predicted 3D keypoints and the target 3D keypoints\n",
    "- Initialize the optimizer `Adam` to minimize the loss function\n",
    "- Run the training loop to optimize the MANO shape and pose parameters\n",
    "- Visualize the loss curve and the predicted 3D keypoints"
   ]
  },
  {
   "cell_type": "markdown",
   "metadata": {},
   "source": [
    "### Load MANO shape parameters from file"
   ]
  },
  {
   "cell_type": "code",
   "execution_count": null,
   "metadata": {},
   "outputs": [],
   "source": [
    "import torch\n",
    "from manopth.manolayer import ManoLayer\n",
    "from commons import *\n",
    "\n",
    "device = torch.device('cuda' if torch.cuda.is_available() else 'cpu')\n",
    "print('Using device:', device)"
   ]
  },
  {
   "cell_type": "code",
   "execution_count": null,
   "metadata": {},
   "outputs": [],
   "source": [
    "data = read_data_from_json(PROJ_ROOT / \"data/calibration/mano/subject_7/mano.json\")\n",
    "print(f\"Load data from json:\\n {data}\")\n",
    "\n",
    "# create a hand pose parameter tensor\n",
    "shape_params = torch.tensor(data[\"betas\"], dtype=torch.float32).to(device)\n",
    "print(f\"shape_params tensor:\\n {shape_params}\")\n",
    "\n",
    "# add batch dimension\n",
    "shape_params = shape_params.unsqueeze(0)\n",
    "print(f\"shape_params tensor with batch dim:\\n {shape_params.shape}\")"
   ]
  },
  {
   "cell_type": "markdown",
   "metadata": {},
   "source": [
    "### Load Target 3D keypoints from file"
   ]
  },
  {
   "cell_type": "code",
   "execution_count": null,
   "metadata": {},
   "outputs": [],
   "source": [
    "kpts_3d = np.load(PROJ_ROOT / \"data/recordings/20231022_193630/hand_keypoints_3d.npy\")\n",
    "print(f\"3D keypoints:\\n {kpts_3d.shape}\") # (frames_num, hand_num, joints_num, 3)\n",
    "\n",
    "# load frame_id=300 keypoints of the left hand (index=1)\n",
    "target_kpts = kpts_3d[300, 1]\n",
    "print(f\"target_kpts:\\n {target_kpts}\")\n",
    "\n",
    "# transform keypoints to tensor\n",
    "target_kpts = torch.tensor(target_kpts, dtype=torch.float32).to(device)\n",
    "print(f\"target_kpts tensor:\\n {target_kpts.shape}\")\n",
    "\n",
    "# add batch dimension\n",
    "target_kpts = target_kpts.unsqueeze(0)\n",
    "print(f\"target_kpts tensor with batch dim:\\n {target_kpts.shape}\")"
   ]
  },
  {
   "cell_type": "markdown",
   "metadata": {},
   "source": [
    "### Initialize the MANO layer"
   ]
  },
  {
   "cell_type": "code",
   "execution_count": null,
   "metadata": {},
   "outputs": [],
   "source": [
    "# Create a MANO layer with default settings\n",
    "mano_layer = ManoLayer(\n",
    "    center_idx=0,\n",
    "    flat_hand_mean=True,\n",
    "    ncomps=45,\n",
    "    side=\"left\",\n",
    "    mano_root=PROJ_ROOT/ \"config/mano_models\",\n",
    "    use_pca=True,\n",
    "    root_rot_mode=\"axisang\",\n",
    "    joint_rot_mode=\"axisang\",\n",
    "    robust_rot=True,\n",
    ")\n",
    "\n",
    "# Move the MANO layer to the device\n",
    "mano_layer = mano_layer.to(device)"
   ]
  },
  {
   "cell_type": "markdown",
   "metadata": {},
   "source": [
    "### Define the `mano_layer_forward` function"
   ]
  },
  {
   "cell_type": "code",
   "execution_count": null,
   "metadata": {},
   "outputs": [],
   "source": [
    "def mano_layer_forward(mano_layer, mano_pose, mano_shape):\n",
    "    # Forward pass through the MANO layer\n",
    "    verts, joints = mano_layer(mano_pose[:, :48], mano_shape, mano_pose[:, 48:])\n",
    "    verts /= 1000.0\n",
    "    joints /= 1000.0\n",
    "    return verts, joints"
   ]
  },
  {
   "cell_type": "markdown",
   "metadata": {},
   "source": [
    "### Initialize the optimizer `Adam`"
   ]
  },
  {
   "cell_type": "code",
   "execution_count": null,
   "metadata": {},
   "outputs": [],
   "source": [
    "# Initialize the MSE loss function\n",
    "mse_loss = torch.nn.MSELoss(reduction=\"sum\")\n",
    "\n",
    "# Initialize the MANO pose to optimize by setting the wrist to the target keypoint\n",
    "optim_pose = torch.zeros((1, 51), dtype=torch.float32, device=device)\n",
    "optim_pose[:, 48:] = target_kpts[:, 0, :].clone()\n",
    "print(f\"optim_pose initialized:\\n {optim_pose}\")\n",
    "# Require gradient for the optimization\n",
    "optim_pose.requires_grad = True\n",
    "print(f\"optim_pose requires_grad:\\n {optim_pose}\")\n",
    "\n",
    "# Initialize the optimizer\n",
    "optimizer = torch.optim.Adam([optim_pose], lr=0.001)\n",
    "print(f\"optimizer:\\n {optimizer}\")"
   ]
  },
  {
   "cell_type": "markdown",
   "metadata": {},
   "source": [
    "### Define the loss function `loss_3d_keypoints`"
   ]
  },
  {
   "cell_type": "code",
   "execution_count": null,
   "metadata": {},
   "outputs": [],
   "source": [
    "def loss_3d_keypoints(mano_joints, target_kpts):\n",
    "    loss = mse_loss(mano_joints, target_kpts)\n",
    "    loss /= mano_joints.shape[0]\n",
    "    return loss\n"
   ]
  },
  {
   "cell_type": "markdown",
   "metadata": {},
   "source": [
    "### Run the training loop"
   ]
  },
  {
   "cell_type": "code",
   "execution_count": null,
   "metadata": {},
   "outputs": [],
   "source": [
    "loss_history = []\n",
    "total_steps = 10000\n",
    "\n",
    "for step in range(total_steps):\n",
    "    optimizer.zero_grad()\n",
    "\n",
    "    # Forward pass through the MANO layer\n",
    "    mano_verts, mano_joints = mano_layer_forward(mano_layer, optim_pose, shape_params)\n",
    "\n",
    "    # Compute the 3D keypoints loss\n",
    "    loss = loss_3d_keypoints(mano_joints, target_kpts)\n",
    "\n",
    "    # Backward pass (compute gradients)\n",
    "    loss.backward()\n",
    "\n",
    "    # Update MANO parameters (optimize)\n",
    "    optimizer.step()\n",
    "\n",
    "    # Print the loss\n",
    "    if (step+1) % 500 == 0:\n",
    "        print(f\"Step {step+1:06d}/{total_steps:06d}, Loss {loss.item():11.8f}\")\n",
    "\n",
    "    # Save the loss\n",
    "    loss_history.append(loss.item())"
   ]
  },
  {
   "cell_type": "markdown",
   "metadata": {},
   "source": [
    "### Visualize the loss curve"
   ]
  },
  {
   "cell_type": "code",
   "execution_count": null,
   "metadata": {},
   "outputs": [],
   "source": [
    "# Plot the loss history\n",
    "plt.plot(loss_history)\n",
    "plt.xlabel(\"Step\")\n",
    "plt.ylabel(\"Loss\")\n",
    "plt.title(\"Optimization Loss\")\n",
    "plt.show()\n"
   ]
  },
  {
   "cell_type": "markdown",
   "metadata": {},
   "source": [
    "### Visualize the predicted 3D keypoints"
   ]
  },
  {
   "cell_type": "code",
   "execution_count": null,
   "metadata": {},
   "outputs": [],
   "source": [
    "# Forward pass through the MANO layer to get the optimized hand mesh\n",
    "mano_verts, mano_joints = mano_layer_forward(mano_layer, optim_pose, shape_params)\n",
    "mano_faces = mano_layer.th_faces\n",
    "\n",
    "# Convert the resulting vertices, joints and faces to numpy\n",
    "mano_verts = mano_verts[0].detach().cpu().numpy()\n",
    "mano_joints = mano_joints[0].detach().cpu().numpy()\n",
    "mano_faces = mano_faces.detach().cpu().numpy()\n"
   ]
  },
  {
   "cell_type": "markdown",
   "metadata": {},
   "source": [
    "### Visualize the MANO hand mesh"
   ]
  },
  {
   "cell_type": "code",
   "execution_count": null,
   "metadata": {},
   "outputs": [],
   "source": [
    "mesh = o3d.geometry.TriangleMesh()\n",
    "mesh.vertices = o3d.utility.Vector3dVector(mano_verts)\n",
    "mesh.triangles = o3d.utility.Vector3iVector(mano_faces)\n",
    "mesh.paint_uniform_color([0.3, 0.3, 0.3])\n",
    "\n",
    "mesh.compute_vertex_normals()\n",
    "mesh.normalize_normals()\n",
    "\n",
    "# Joints as red spheres\n",
    "joint_mesh = o3d.geometry.TriangleMesh()\n",
    "for joint in mano_joints:\n",
    "    joint_mesh += o3d.geometry.TriangleMesh.create_sphere(radius=0.003).translate(joint)\n",
    "joint_mesh.paint_uniform_color([1.0, 0.0, 0.0])\n",
    "\n",
    "# Keypoints as blue spheres\n",
    "kpts_mesh = o3d.geometry.TriangleMesh()\n",
    "for kpt in target_kpts[0].cpu().numpy():\n",
    "    kpts_mesh += o3d.geometry.TriangleMesh.create_sphere(radius=0.003).translate(kpt)\n",
    "kpts_mesh.paint_uniform_color([0.0, 0.0, 1.0])\n",
    "\n",
    "o3d.visualization.draw([mesh, joint_mesh, kpts_mesh])"
   ]
  },
  {
   "cell_type": "markdown",
   "metadata": {},
   "source": [
    "### Practice\n",
    "\n",
    "- how about the MANO hand mesh visualization? when `lr=0.001, total_steps=1000`\n",
    "- how about the MANO hand mesh visualization? when `lr=0.001, total_steps=3000`\n",
    "- how about the MANO hand mesh visualization? when `lr=0.001, total_steps=5000`\n",
    "- how about the MANO hand mesh visualization? when `lr=0.01, total_steps=1000`\n",
    "- how about the MANO hand mesh visualization? when `lr=0.01, total_steps=3000`\n",
    "- how about the MANO hand mesh visualization? when `lr=0.01, total_steps=5000`\n",
    "- What will happen if we don't set the wrist joints to the target 3D keypoint? (Comment out the code ln:6 in `Initialize the optimizer \"Adam\"` section and run the training loop again)"
   ]
  }
 ],
 "metadata": {
  "kernelspec": {
   "display_name": "summer_camp",
   "language": "python",
   "name": "python3"
  },
  "language_info": {
   "codemirror_mode": {
    "name": "ipython",
    "version": 3
   },
   "file_extension": ".py",
   "mimetype": "text/x-python",
   "name": "python",
   "nbconvert_exporter": "python",
   "pygments_lexer": "ipython3",
   "version": "3.10.14"
  }
 },
 "nbformat": 4,
 "nbformat_minor": 2
}
